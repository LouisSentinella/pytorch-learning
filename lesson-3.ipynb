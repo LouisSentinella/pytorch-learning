{
 "cells": [
  {
   "cell_type": "code",
   "execution_count": 78,
   "metadata": {
    "collapsed": true
   },
   "outputs": [],
   "source": [
    "import torch\n",
    "import torchvision\n",
    "from torchvision.datasets import MNIST\n",
    "import matplotlib.pyplot as plt"
   ]
  },
  {
   "cell_type": "code",
   "execution_count": 79,
   "outputs": [],
   "source": [
    "dataset = MNIST('./data', download=True)"
   ],
   "metadata": {
    "collapsed": false,
    "pycharm": {
     "name": "#%%\n"
    }
   }
  },
  {
   "cell_type": "code",
   "execution_count": 80,
   "outputs": [
    {
     "data": {
      "text/plain": "60000"
     },
     "execution_count": 80,
     "metadata": {},
     "output_type": "execute_result"
    }
   ],
   "source": [
    "len(dataset)"
   ],
   "metadata": {
    "collapsed": false,
    "pycharm": {
     "name": "#%%\n"
    }
   }
  },
  {
   "cell_type": "code",
   "execution_count": 81,
   "outputs": [
    {
     "data": {
      "text/plain": "10000"
     },
     "execution_count": 81,
     "metadata": {},
     "output_type": "execute_result"
    }
   ],
   "source": [
    "test_dataset = MNIST(root='data/', train=False)\n",
    "len(test_dataset)"
   ],
   "metadata": {
    "collapsed": false,
    "pycharm": {
     "name": "#%%\n"
    }
   }
  },
  {
   "cell_type": "code",
   "execution_count": 82,
   "outputs": [
    {
     "data": {
      "text/plain": "(<PIL.Image.Image image mode=L size=28x28 at 0x156363DBDC0>, 5)"
     },
     "execution_count": 82,
     "metadata": {},
     "output_type": "execute_result"
    }
   ],
   "source": [
    "dataset[0]"
   ],
   "metadata": {
    "collapsed": false,
    "pycharm": {
     "name": "#%%\n"
    }
   }
  },
  {
   "cell_type": "code",
   "execution_count": 83,
   "outputs": [],
   "source": [
    "%matplotlib inline"
   ],
   "metadata": {
    "collapsed": false,
    "pycharm": {
     "name": "#%%\n"
    }
   }
  },
  {
   "cell_type": "code",
   "execution_count": 84,
   "outputs": [],
   "source": [
    "image, label = dataset[0]"
   ],
   "metadata": {
    "collapsed": false,
    "pycharm": {
     "name": "#%%\n"
    }
   }
  },
  {
   "cell_type": "code",
   "execution_count": 85,
   "outputs": [
    {
     "name": "stdout",
     "output_type": "stream",
     "text": [
      "Label:  5\n"
     ]
    },
    {
     "data": {
      "text/plain": "<Figure size 432x288 with 1 Axes>",
      "image/png": "[encoded data removed]"
     },
     "metadata": {
      "needs_background": "light"
     },
     "output_type": "display_data"
    }
   ],
   "source": [
    "plt.imshow(image, cmap='gray')\n",
    "print(\"Label: \", label)"
   ],
   "metadata": {
    "collapsed": false,
    "pycharm": {
     "name": "#%%\n"
    }
   }
  },
  {
   "cell_type": "code",
   "execution_count": 86,
   "outputs": [
    {
     "name": "stdout",
     "output_type": "stream",
     "text": [
      "Label:  0\n"
     ]
    },
    {
     "data": {
      "text/plain": "<Figure size 432x288 with 1 Axes>",
      "image/png": "[encoded data removed]"
     },
     "metadata": {
      "needs_background": "light"
     },
     "output_type": "display_data"
    }
   ],
   "source": [
    "image, label = dataset[1]\n",
    "plt.imshow(image, cmap='gray')\n",
    "print(\"Label: \", label)"
   ],
   "metadata": {
    "collapsed": false,
    "pycharm": {
     "name": "#%%\n"
    }
   }
  },
  {
   "cell_type": "code",
   "execution_count": 87,
   "outputs": [],
   "source": [
    "import torchvision.transforms as transforms"
   ],
   "metadata": {
    "collapsed": false,
    "pycharm": {
     "name": "#%%\n"
    }
   }
  },
  {
   "cell_type": "code",
   "source": [
    "dataset = MNIST(root='data/', train=True, transform=transforms.ToTensor())"
   ],
   "metadata": {
    "collapsed": false,
    "pycharm": {
     "name": "#%%\n"
    }
   },
   "execution_count": 88,
   "outputs": []
  },
  {
   "cell_type": "code",
   "execution_count": 89,
   "outputs": [
    {
     "name": "stdout",
     "output_type": "stream",
     "text": [
      "torch.Size([1, 28, 28]) 5\n"
     ]
    }
   ],
   "source": [
    "img_tensor, label = dataset[0]\n",
    "print(img_tensor.shape, label)"
   ],
   "metadata": {
    "collapsed": false,
    "pycharm": {
     "name": "#%%\n"
    }
   }
  },
  {
   "cell_type": "code",
   "execution_count": 90,
   "outputs": [
    {
     "name": "stdout",
     "output_type": "stream",
     "text": [
      "tensor([[0.0039, 0.6039, 0.9922, 0.3529, 0.0000],\n",
      "        [0.0000, 0.5451, 0.9922, 0.7451, 0.0078],\n",
      "        [0.0000, 0.0431, 0.7451, 0.9922, 0.2745],\n",
      "        [0.0000, 0.0000, 0.1373, 0.9451, 0.8824],\n",
      "        [0.0000, 0.0000, 0.0000, 0.3176, 0.9412]])\n"
     ]
    }
   ],
   "source": [
    "print(img_tensor[0, 10:15, 10:15])"
   ],
   "metadata": {
    "collapsed": false,
    "pycharm": {
     "name": "#%%\n"
    }
   }
  },
  {
   "cell_type": "code",
   "execution_count": 91,
   "outputs": [
    {
     "name": "stdout",
     "output_type": "stream",
     "text": [
      "tensor(1.) tensor(0.)\n"
     ]
    }
   ],
   "source": [
    "print(torch.max(img_tensor), torch.min(img_tensor))"
   ],
   "metadata": {
    "collapsed": false,
    "pycharm": {
     "name": "#%%\n"
    }
   }
  },
  {
   "cell_type": "code",
   "execution_count": 92,
   "outputs": [
    {
     "data": {
      "text/plain": "<matplotlib.image.AxesImage at 0x15636312c40>"
     },
     "execution_count": 92,
     "metadata": {},
     "output_type": "execute_result"
    },
    {
     "data": {
      "text/plain": "<Figure size 432x288 with 1 Axes>",
      "image/png": "[encoded data removed]"
     },
     "metadata": {
      "needs_background": "light"
     },
     "output_type": "display_data"
    }
   ],
   "source": [
    "plt.imshow(img_tensor[0, 10:15, 10:15], cmap='gray')"
   ],
   "metadata": {
    "collapsed": false,
    "pycharm": {
     "name": "#%%\n"
    }
   }
  },
  {
   "cell_type": "code",
   "execution_count": 93,
   "outputs": [],
   "source": [
    "from torch.utils.data import random_split\n",
    "\n",
    "train_ds, val_ds = random_split(dataset, (50000, 10000))"
   ],
   "metadata": {
    "collapsed": false,
    "pycharm": {
     "name": "#%%\n"
    }
   }
  },
  {
   "cell_type": "code",
   "execution_count": 94,
   "outputs": [
    {
     "data": {
      "text/plain": "(50000, 10000)"
     },
     "execution_count": 94,
     "metadata": {},
     "output_type": "execute_result"
    }
   ],
   "source": [
    "len(train_ds), len(val_ds)"
   ],
   "metadata": {
    "collapsed": false,
    "pycharm": {
     "name": "#%%\n"
    }
   }
  },
  {
   "cell_type": "code",
   "execution_count": 95,
   "outputs": [],
   "source": [
    "from torch.utils.data import DataLoader\n",
    "\n",
    "batch_size = 128\n",
    "\n",
    "train_loader = DataLoader(train_ds, batch_size, shuffle=True)\n",
    "val_loader = DataLoader(val_ds, batch_size)"
   ],
   "metadata": {
    "collapsed": false,
    "pycharm": {
     "name": "#%%\n"
    }
   }
  },
  {
   "cell_type": "code",
   "execution_count": 96,
   "outputs": [],
   "source": [
    "import torch.nn as nn"
   ],
   "metadata": {
    "collapsed": false,
    "pycharm": {
     "name": "#%%\n"
    }
   }
  },
  {
   "cell_type": "code",
   "source": [
    "input_size = 28 * 28\n",
    "num_classes = 10\n",
    "\n",
    "model = nn.Linear(input_size, num_classes)"
   ],
   "metadata": {
    "collapsed": false,
    "pycharm": {
     "name": "#%%\n"
    }
   },
   "execution_count": 97,
   "outputs": []
  },
  {
   "cell_type": "code",
   "execution_count": 98,
   "outputs": [
    {
     "name": "stdout",
     "output_type": "stream",
     "text": [
      "torch.Size([10, 784])\n"
     ]
    },
    {
     "data": {
      "text/plain": "Parameter containing:\ntensor([[-0.0204,  0.0071, -0.0287,  ...,  0.0036,  0.0196,  0.0165],\n        [-0.0287,  0.0017,  0.0166,  ..., -0.0055, -0.0104, -0.0087],\n        [-0.0298,  0.0031, -0.0126,  ..., -0.0036,  0.0305,  0.0065],\n        ...,\n        [ 0.0174, -0.0159, -0.0029,  ..., -0.0045, -0.0162, -0.0292],\n        [ 0.0243, -0.0109,  0.0308,  ..., -0.0096,  0.0276, -0.0096],\n        [-0.0327, -0.0165, -0.0126,  ...,  0.0138, -0.0087, -0.0296]],\n       requires_grad=True)"
     },
     "execution_count": 98,
     "metadata": {},
     "output_type": "execute_result"
    }
   ],
   "source": [
    "print(model.weight.shape)\n",
    "model.weight"
   ],
   "metadata": {
    "collapsed": false,
    "pycharm": {
     "name": "#%%\n"
    }
   }
  },
  {
   "cell_type": "code",
   "execution_count": 99,
   "outputs": [
    {
     "name": "stdout",
     "output_type": "stream",
     "text": [
      "torch.Size([10])\n"
     ]
    },
    {
     "data": {
      "text/plain": "Parameter containing:\ntensor([ 0.0220, -0.0322, -0.0336, -0.0347, -0.0039, -0.0301, -0.0319,  0.0018,\n         0.0201,  0.0339], requires_grad=True)"
     },
     "execution_count": 99,
     "metadata": {},
     "output_type": "execute_result"
    }
   ],
   "source": [
    "print(model.bias.shape)\n",
    "model.bias"
   ],
   "metadata": {
    "collapsed": false,
    "pycharm": {
     "name": "#%%\n"
    }
   }
  },
  {
   "cell_type": "code",
   "execution_count": 100,
   "outputs": [
    {
     "name": "stdout",
     "output_type": "stream",
     "text": [
      "tensor([1, 5, 2, 1, 4, 7, 8, 9, 7, 7, 8, 1, 2, 4, 6, 7, 0, 8, 6, 1, 7, 0, 3, 7,\n",
      "        8, 0, 3, 1, 2, 7, 2, 1, 0, 1, 2, 7, 8, 6, 8, 6, 3, 5, 5, 3, 4, 9, 8, 2,\n",
      "        4, 5, 6, 6, 7, 6, 5, 5, 5, 6, 0, 9, 6, 8, 9, 7, 2, 3, 4, 1, 3, 7, 3, 1,\n",
      "        0, 7, 2, 4, 0, 2, 9, 0, 7, 7, 5, 4, 0, 2, 1, 6, 9, 2, 9, 4, 7, 3, 2, 4,\n",
      "        2, 6, 1, 9, 8, 7, 5, 4, 0, 8, 2, 0, 1, 8, 4, 6, 3, 4, 6, 2, 5, 6, 6, 4,\n",
      "        0, 8, 9, 0, 1, 6, 0, 8])\n",
      "torch.Size([128, 1, 28, 28])\n",
      "mat1 and mat2 shapes cannot be multiplied (3584x28 and 784x10)\n",
      "tensor([[ 0.0732,  0.1692, -0.2889,  ...,  0.0197, -0.0070, -0.1884],\n",
      "        [ 0.4875, -0.2135,  0.0578,  ..., -0.2950, -0.2415, -0.0679],\n",
      "        [ 0.0554,  0.1358, -0.0284,  ..., -0.2729,  0.3359, -0.2539],\n",
      "        ...,\n",
      "        [ 0.3429, -0.0401,  0.0593,  ..., -0.1381, -0.1590, -0.0437],\n",
      "        [ 0.0622,  0.2148, -0.0120,  ...,  0.0459,  0.3716, -0.2624],\n",
      "        [ 0.3252,  0.0741, -0.0248,  ..., -0.0234, -0.2048, -0.1279]],\n",
      "       grad_fn=<AddmmBackward0>)\n"
     ]
    }
   ],
   "source": [
    "for images, labels in train_loader:\n",
    "    print(labels)\n",
    "    print(images.shape)\n",
    "    try:\n",
    "        outputs = model(images)\n",
    "    except RuntimeError as e:\n",
    "        print(e)\n",
    "    print(outputs)\n",
    "    break"
   ],
   "metadata": {
    "collapsed": false,
    "pycharm": {
     "name": "#%%\n"
    }
   }
  },
  {
   "cell_type": "code",
   "execution_count": 101,
   "outputs": [
    {
     "data": {
      "text/plain": "torch.Size([128, 1, 28, 28])"
     },
     "execution_count": 101,
     "metadata": {},
     "output_type": "execute_result"
    }
   ],
   "source": [
    "images.shape"
   ],
   "metadata": {
    "collapsed": false,
    "pycharm": {
     "name": "#%%\n"
    }
   }
  },
  {
   "cell_type": "code",
   "execution_count": 102,
   "outputs": [
    {
     "data": {
      "text/plain": "torch.Size([128, 784])"
     },
     "execution_count": 102,
     "metadata": {},
     "output_type": "execute_result"
    }
   ],
   "source": [
    "images.reshape(128, 784).shape"
   ],
   "metadata": {
    "collapsed": false,
    "pycharm": {
     "name": "#%%\n"
    }
   }
  },
  {
   "cell_type": "code",
   "execution_count": 103,
   "outputs": [],
   "source": [
    "class MnistModel(nn.Module):\n",
    "    def __init__(self):\n",
    "        super().__init__()\n",
    "        self.linear = nn.Linear(input_size, num_classes)\n",
    "\n",
    "    def forward(self, xb):\n",
    "        xb = xb.reshape(-1, 784)\n",
    "        out = self.linear(xb)\n",
    "        return out\n",
    "\n",
    "model = MnistModel()"
   ],
   "metadata": {
    "collapsed": false,
    "pycharm": {
     "name": "#%%\n"
    }
   }
  },
  {
   "cell_type": "code",
   "execution_count": 104,
   "outputs": [
    {
     "data": {
      "text/plain": "Linear(in_features=784, out_features=10, bias=True)"
     },
     "execution_count": 104,
     "metadata": {},
     "output_type": "execute_result"
    }
   ],
   "source": [
    "model.linear"
   ],
   "metadata": {
    "collapsed": false,
    "pycharm": {
     "name": "#%%\n"
    }
   }
  },
  {
   "cell_type": "code",
   "execution_count": 105,
   "outputs": [
    {
     "name": "stdout",
     "output_type": "stream",
     "text": [
      "torch.Size([10, 784]) torch.Size([10])\n"
     ]
    },
    {
     "data": {
      "text/plain": "[Parameter containing:\n tensor([[-0.0092, -0.0299, -0.0033,  ...,  0.0199,  0.0200, -0.0335],\n         [-0.0349,  0.0016,  0.0132,  ..., -0.0309,  0.0148, -0.0223],\n         [-0.0140, -0.0146,  0.0130,  ..., -0.0295,  0.0199, -0.0134],\n         ...,\n         [-0.0345,  0.0194,  0.0179,  ..., -0.0224, -0.0134,  0.0003],\n         [-0.0219, -0.0225,  0.0063,  ...,  0.0008, -0.0198, -0.0201],\n         [-0.0214, -0.0122, -0.0222,  ...,  0.0208, -0.0328,  0.0314]],\n        requires_grad=True),\n Parameter containing:\n tensor([-0.0097,  0.0041, -0.0207, -0.0103, -0.0289, -0.0291,  0.0024, -0.0255,\n         -0.0285,  0.0041], requires_grad=True)]"
     },
     "execution_count": 105,
     "metadata": {},
     "output_type": "execute_result"
    }
   ],
   "source": [
    "print(model.linear.weight.shape, model.linear.bias.shape)\n",
    "list(model.parameters())"
   ],
   "metadata": {
    "collapsed": false,
    "pycharm": {
     "name": "#%%\n"
    }
   }
  },
  {
   "cell_type": "code",
   "execution_count": 106,
   "outputs": [
    {
     "name": "stdout",
     "output_type": "stream",
     "text": [
      "torch.Size([128, 1, 28, 28])\n"
     ]
    }
   ],
   "source": [
    "for images, labels in train_loader:\n",
    "    print(images.shape)\n",
    "    outputs = model(images)\n",
    "    break"
   ],
   "metadata": {
    "collapsed": false,
    "pycharm": {
     "name": "#%%\n"
    }
   }
  },
  {
   "cell_type": "code",
   "execution_count": 107,
   "outputs": [
    {
     "name": "stdout",
     "output_type": "stream",
     "text": [
      "outputs.shape :  torch.Size([128, 10])\n",
      "Sample outputs :\n",
      " tensor([[ 0.1342, -0.1450, -0.0101, -0.0867, -0.0291,  0.1057,  0.0921,  0.1254,\n",
      "         -0.0638,  0.1859],\n",
      "        [ 0.1283, -0.1830,  0.0171, -0.1846, -0.3948,  0.2072, -0.2277, -0.0821,\n",
      "         -0.1583, -0.2310]])\n"
     ]
    }
   ],
   "source": [
    "print('outputs.shape : ', outputs.shape)\n",
    "print('Sample outputs :\\n', outputs[:2].data)"
   ],
   "metadata": {
    "collapsed": false,
    "pycharm": {
     "name": "#%%\n"
    }
   }
  },
  {
   "cell_type": "code",
   "execution_count": 108,
   "outputs": [
    {
     "data": {
      "text/plain": "tensor([[ 0.1342, -0.1450, -0.0101, -0.0867, -0.0291,  0.1057,  0.0921,  0.1254,\n         -0.0638,  0.1859],\n        [ 0.1283, -0.1830,  0.0171, -0.1846, -0.3948,  0.2072, -0.2277, -0.0821,\n         -0.1583, -0.2310]], grad_fn=<SliceBackward0>)"
     },
     "execution_count": 108,
     "metadata": {},
     "output_type": "execute_result"
    }
   ],
   "source": [
    "import torch.nn.functional as F\n",
    "outputs[:2]"
   ],
   "metadata": {
    "collapsed": false,
    "pycharm": {
     "name": "#%%\n"
    }
   }
  },
  {
   "cell_type": "code",
   "execution_count": 109,
   "outputs": [
    {
     "name": "stdout",
     "output_type": "stream",
     "text": [
      "Sample probabilities:\n",
      " tensor([[0.1103, 0.0834, 0.0954, 0.0884, 0.0937, 0.1072, 0.1057, 0.1093, 0.0905,\n",
      "         0.1161],\n",
      "        [0.1251, 0.0916, 0.1119, 0.0915, 0.0741, 0.1354, 0.0876, 0.1014, 0.0939,\n",
      "         0.0873]])\n",
      "Sum:  0.9999998807907104\n"
     ]
    }
   ],
   "source": [
    "probs = F.softmax(outputs, dim=1)\n",
    "print(\"Sample probabilities:\\n\", probs[:2].data)\n",
    "print(\"Sum: \", torch.sum(probs[0]).item())"
   ],
   "metadata": {
    "collapsed": false,
    "pycharm": {
     "name": "#%%\n"
    }
   }
  },
  {
   "cell_type": "code",
   "execution_count": 110,
   "outputs": [
    {
     "name": "stdout",
     "output_type": "stream",
     "text": [
      "tensor([9, 5, 9, 5, 5, 5, 5, 1, 5, 5, 6, 5, 5, 5, 1, 9, 9, 1, 1, 5, 0, 5, 6, 0,\n",
      "        6, 5, 2, 9, 9, 5, 5, 5, 5, 6, 5, 1, 5, 0, 9, 9, 6, 1, 0, 5, 5, 5, 5, 5,\n",
      "        5, 5, 7, 0, 5, 5, 0, 5, 5, 5, 5, 5, 6, 5, 5, 6, 5, 6, 5, 9, 0, 5, 5, 6,\n",
      "        7, 2, 5, 0, 5, 5, 5, 5, 6, 6, 5, 5, 5, 6, 5, 1, 7, 5, 5, 0, 9, 7, 1, 5,\n",
      "        5, 5, 5, 1, 5, 9, 9, 5, 5, 2, 6, 5, 5, 1, 5, 5, 0, 5, 7, 5, 5, 5, 1, 1,\n",
      "        1, 5, 5, 5, 5, 5, 5, 5])\n",
      "tensor([0.1161, 0.1354, 0.1294, 0.1233, 0.1607, 0.1791, 0.1547, 0.1110, 0.1401,\n",
      "        0.1615, 0.1346, 0.1259, 0.1313, 0.1603, 0.1238, 0.1244, 0.1321, 0.1140,\n",
      "        0.1169, 0.1336, 0.1095, 0.1419, 0.1176, 0.1162, 0.1390, 0.1297, 0.1261,\n",
      "        0.1186, 0.1117, 0.1956, 0.1638, 0.1266, 0.1359, 0.1321, 0.1509, 0.1177,\n",
      "        0.1603, 0.1288, 0.1124, 0.1448, 0.1410, 0.1271, 0.1188, 0.1407, 0.1341,\n",
      "        0.1363, 0.1802, 0.1566, 0.1458, 0.1276, 0.1376, 0.1122, 0.1344, 0.1175,\n",
      "        0.1232, 0.1620, 0.1257, 0.1605, 0.1347, 0.1674, 0.1256, 0.1419, 0.1282,\n",
      "        0.1306, 0.1539, 0.1165, 0.1470, 0.1338, 0.1125, 0.1238, 0.1259, 0.1242,\n",
      "        0.1257, 0.1178, 0.1489, 0.1289, 0.1333, 0.1694, 0.1602, 0.1872, 0.1320,\n",
      "        0.1377, 0.1336, 0.1481, 0.1636, 0.1283, 0.1200, 0.1295, 0.1206, 0.1428,\n",
      "        0.1316, 0.1109, 0.1233, 0.1314, 0.1217, 0.1379, 0.1369, 0.1434, 0.1379,\n",
      "        0.1179, 0.1745, 0.1138, 0.1179, 0.1327, 0.1727, 0.1144, 0.1331, 0.1166,\n",
      "        0.1604, 0.1272, 0.1373, 0.1512, 0.1220, 0.2233, 0.1307, 0.1610, 0.1190,\n",
      "        0.1528, 0.1135, 0.1245, 0.1250, 0.1626, 0.1599, 0.1799, 0.1641, 0.1484,\n",
      "        0.1391, 0.1447], grad_fn=<MaxBackward0>)\n"
     ]
    }
   ],
   "source": [
    "max_probs, preds = torch.max(probs, dim=1)\n",
    "print(preds)\n",
    "print(max_probs)"
   ],
   "metadata": {
    "collapsed": false,
    "pycharm": {
     "name": "#%%\n"
    }
   }
  },
  {
   "cell_type": "code",
   "execution_count": 111,
   "outputs": [
    {
     "data": {
      "text/plain": "tensor([5, 9, 3, 5, 2, 7, 4, 1, 8, 9, 5, 8, 3, 2, 1, 7, 3, 6, 1, 7, 6, 8, 5, 6,\n        5, 8, 8, 9, 3, 2, 3, 5, 2, 6, 0, 8, 0, 9, 1, 4, 8, 1, 5, 2, 3, 5, 0, 9,\n        7, 5, 8, 7, 8, 5, 5, 9, 4, 7, 4, 0, 5, 0, 9, 6, 3, 6, 2, 6, 1, 4, 8, 0,\n        2, 1, 9, 5, 8, 9, 7, 9, 6, 5, 2, 2, 0, 6, 3, 0, 5, 1, 0, 9, 9, 5, 0, 1,\n        5, 1, 7, 1, 0, 3, 5, 9, 8, 8, 8, 3, 7, 1, 4, 8, 5, 0, 8, 3, 9, 2, 1, 1,\n        1, 2, 0, 7, 4, 8, 2, 7])"
     },
     "execution_count": 111,
     "metadata": {},
     "output_type": "execute_result"
    }
   ],
   "source": [
    "labels"
   ],
   "metadata": {
    "collapsed": false,
    "pycharm": {
     "name": "#%%\n"
    }
   }
  },
  {
   "cell_type": "code",
   "execution_count": 112,
   "outputs": [
    {
     "data": {
      "text/plain": "tensor([[ 0.1342, -0.1450, -0.0101, -0.0867, -0.0291,  0.1057,  0.0921,  0.1254,\n         -0.0638,  0.1859],\n        [ 0.1283, -0.1830,  0.0171, -0.1846, -0.3948,  0.2072, -0.2277, -0.0821,\n         -0.1583, -0.2310]], grad_fn=<SliceBackward0>)"
     },
     "execution_count": 112,
     "metadata": {},
     "output_type": "execute_result"
    }
   ],
   "source": [
    "outputs[:2]"
   ],
   "metadata": {
    "collapsed": false,
    "pycharm": {
     "name": "#%%\n"
    }
   }
  },
  {
   "cell_type": "code",
   "execution_count": 113,
   "outputs": [
    {
     "data": {
      "text/plain": "tensor(22)"
     },
     "execution_count": 113,
     "metadata": {},
     "output_type": "execute_result"
    }
   ],
   "source": [
    "torch.sum(preds==labels)"
   ],
   "metadata": {
    "collapsed": false,
    "pycharm": {
     "name": "#%%\n"
    }
   }
  },
  {
   "cell_type": "code",
   "execution_count": 114,
   "outputs": [
    {
     "data": {
      "text/plain": "tensor(0.1719)"
     },
     "execution_count": 114,
     "metadata": {},
     "output_type": "execute_result"
    }
   ],
   "source": [
    "def accuracy(outputs, labels):\n",
    "    _, preds = torch.max(outputs, dim=1)\n",
    "    return torch.tensor(torch.sum(preds == labels).item() / len(preds))\n",
    "\n",
    "accuracy(outputs, labels)"
   ],
   "metadata": {
    "collapsed": false,
    "pycharm": {
     "name": "#%%\n"
    }
   }
  },
  {
   "cell_type": "code",
   "execution_count": 115,
   "outputs": [
    {
     "data": {
      "text/plain": "tensor([[0.1103, 0.0834, 0.0954,  ..., 0.1093, 0.0905, 0.1161],\n        [0.1251, 0.0916, 0.1119,  ..., 0.1014, 0.0939, 0.0873],\n        [0.0990, 0.0946, 0.0923,  ..., 0.1155, 0.0636, 0.1294],\n        ...,\n        [0.0709, 0.0928, 0.0831,  ..., 0.1142, 0.1007, 0.1195],\n        [0.0877, 0.1010, 0.0930,  ..., 0.0930, 0.1153, 0.1338],\n        [0.1120, 0.1033, 0.0779,  ..., 0.0950, 0.0843, 0.1327]],\n       grad_fn=<SoftmaxBackward0>)"
     },
     "execution_count": 115,
     "metadata": {},
     "output_type": "execute_result"
    }
   ],
   "source": [
    "probs"
   ],
   "metadata": {
    "collapsed": false,
    "pycharm": {
     "name": "#%%\n"
    }
   }
  },
  {
   "cell_type": "code",
   "execution_count": 116,
   "outputs": [
    {
     "data": {
      "text/plain": "tensor([[ 0.1342, -0.1450, -0.0101,  ...,  0.1254, -0.0638,  0.1859],\n        [ 0.1283, -0.1830,  0.0171,  ..., -0.0821, -0.1583, -0.2310],\n        [-0.0735, -0.1198, -0.1442,  ...,  0.0805, -0.5162,  0.1935],\n        ...,\n        [-0.4318, -0.1623, -0.2725,  ...,  0.0454, -0.0804,  0.0907],\n        [-0.1597, -0.0185, -0.1017,  ..., -0.1014,  0.1135,  0.2623],\n        [ 0.0404, -0.0406, -0.3229,  ..., -0.1239, -0.2438,  0.2099]],\n       grad_fn=<AddmmBackward0>)"
     },
     "execution_count": 116,
     "metadata": {},
     "output_type": "execute_result"
    }
   ],
   "source": [
    "outputs"
   ],
   "metadata": {
    "collapsed": false,
    "pycharm": {
     "name": "#%%\n"
    }
   }
  },
  {
   "cell_type": "code",
   "execution_count": 117,
   "outputs": [],
   "source": [
    "loss_fn = F.cross_entropy"
   ],
   "metadata": {
    "collapsed": false,
    "pycharm": {
     "name": "#%%\n"
    }
   }
  },
  {
   "cell_type": "code",
   "execution_count": 118,
   "outputs": [
    {
     "name": "stdout",
     "output_type": "stream",
     "text": [
      "tensor(2.2981, grad_fn=<NllLossBackward0>)\n"
     ]
    }
   ],
   "source": [
    "loss = loss_fn(outputs, labels)\n",
    "print(loss)"
   ],
   "metadata": {
    "collapsed": false,
    "pycharm": {
     "name": "#%%\n"
    }
   }
  },
  {
   "cell_type": "code",
   "execution_count": 119,
   "outputs": [],
   "source": [
    "def fit(model, lr, train_loader, val_loader, epochs, opt_func=torch.optim.SGD):\n",
    "    optimizer = opt_func(model.parameters(), lr)\n",
    "    history = []\n",
    "\n",
    "    for epoch in range(0, epochs):\n",
    "        for batch in train_loader:\n",
    "            loss = model.training_step(batch)\n",
    "            loss.backward()\n",
    "            optimizer.step()\n",
    "            optimizer.zero_grad()\n",
    "\n",
    "        result = evaluate(model, val_loader)\n",
    "        model.epoch_end(epoch, result)\n",
    "        history.append(result)\n",
    "\n",
    "    return history"
   ],
   "metadata": {
    "collapsed": false,
    "pycharm": {
     "name": "#%%\n"
    }
   }
  },
  {
   "cell_type": "code",
   "execution_count": 120,
   "outputs": [],
   "source": [
    "def evaluate(model, validation_loader):\n",
    "    outputs = [model.validation_step(batch) for batch in validation_loader]\n",
    "    return model.validation_epoch_end(outputs)"
   ],
   "metadata": {
    "collapsed": false,
    "pycharm": {
     "name": "#%%\n"
    }
   }
  },
  {
   "cell_type": "code",
   "execution_count": 121,
   "outputs": [],
   "source": [
    "class MnistModel(nn.Module):\n",
    "    def __init__(self):\n",
    "        super().__init__()\n",
    "        self.linear = nn.Linear(input_size, num_classes)\n",
    "\n",
    "    def forward(self, xb):\n",
    "        xb = xb.reshape(-1, 784)\n",
    "        out = self.linear(xb)\n",
    "        return out\n",
    "\n",
    "    def training_step(self, batch):\n",
    "        images, labels = batch\n",
    "        out = self(images)\n",
    "        loss = F.cross_entropy(out, labels)\n",
    "        return loss\n",
    "\n",
    "    def validation_step(self, batch):\n",
    "        images, labels = batch\n",
    "        out = self(images)\n",
    "        loss = F.cross_entropy(out, labels)\n",
    "        acc = accuracy(out, labels)\n",
    "        return {'val_loss': loss, 'val_acc':acc}\n",
    "\n",
    "    def validation_epoch_end(self, outputs):\n",
    "        batch_losses = [x['val_loss'] for x in outputs]\n",
    "        epoch_loss = torch.stack(batch_losses).mean()\n",
    "        batch_acc = [x['val_acc'] for x in outputs]\n",
    "        epoch_acc = torch.stack(batch_acc).mean()\n",
    "        return {'val_loss':epoch_loss.item(), 'val_acc':epoch_acc.item()}\n",
    "\n",
    "    def epoch_end(self, epoch, result):\n",
    "        print(\"Epoch [{}], val_loss: {:.4f}, val_acc: {:.4f}\".format(epoch, result['val_loss'], result['val_acc']))\n",
    "\n",
    "model = MnistModel()"
   ],
   "metadata": {
    "collapsed": false,
    "pycharm": {
     "name": "#%%\n"
    }
   }
  },
  {
   "cell_type": "code",
   "execution_count": 122,
   "outputs": [
    {
     "data": {
      "text/plain": "{'val_loss': 2.3239316940307617, 'val_acc': 0.10472705960273743}"
     },
     "execution_count": 122,
     "metadata": {},
     "output_type": "execute_result"
    }
   ],
   "source": [
    "result0= evaluate(model, val_loader)\n",
    "result0"
   ],
   "metadata": {
    "collapsed": false,
    "pycharm": {
     "name": "#%%\n"
    }
   }
  },
  {
   "cell_type": "code",
   "execution_count": 123,
   "outputs": [
    {
     "name": "stdout",
     "output_type": "stream",
     "text": [
      "Epoch [0], val_loss: 1.9566, val_acc: 0.6086\n",
      "Epoch [1], val_loss: 1.6850, val_acc: 0.7363\n",
      "Epoch [2], val_loss: 1.4814, val_acc: 0.7701\n",
      "Epoch [3], val_loss: 1.3274, val_acc: 0.7901\n",
      "Epoch [4], val_loss: 1.2089, val_acc: 0.8034\n"
     ]
    }
   ],
   "source": [
    "history1 = fit(model, 0.001, train_loader, val_loader, 5)"
   ],
   "metadata": {
    "collapsed": false,
    "pycharm": {
     "name": "#%%\n"
    }
   }
  },
  {
   "cell_type": "code",
   "execution_count": 124,
   "outputs": [
    {
     "name": "stdout",
     "output_type": "stream",
     "text": [
      "Epoch [0], val_loss: 0.8878, val_acc: 0.8309\n",
      "Epoch [1], val_loss: 0.7463, val_acc: 0.8457\n",
      "Epoch [2], val_loss: 0.6662, val_acc: 0.8541\n",
      "Epoch [3], val_loss: 0.6135, val_acc: 0.8595\n",
      "Epoch [4], val_loss: 0.5757, val_acc: 0.8645\n"
     ]
    }
   ],
   "source": [
    "history2 = fit(model, 0.005, train_loader, val_loader, 5)"
   ],
   "metadata": {
    "collapsed": false,
    "pycharm": {
     "name": "#%%\n"
    }
   }
  },
  {
   "cell_type": "code",
   "execution_count": 125,
   "outputs": [
    {
     "name": "stdout",
     "output_type": "stream",
     "text": [
      "Epoch [0], val_loss: 0.5250, val_acc: 0.8705\n",
      "Epoch [1], val_loss: 0.4926, val_acc: 0.8768\n",
      "Epoch [2], val_loss: 0.4691, val_acc: 0.8799\n",
      "Epoch [3], val_loss: 0.4506, val_acc: 0.8850\n",
      "Epoch [4], val_loss: 0.4369, val_acc: 0.8865\n"
     ]
    }
   ],
   "source": [
    "history3 = fit(model, 0.01, train_loader, val_loader, 5)"
   ],
   "metadata": {
    "collapsed": false,
    "pycharm": {
     "name": "#%%\n"
    }
   }
  },
  {
   "cell_type": "code",
   "execution_count": 126,
   "outputs": [
    {
     "name": "stdout",
     "output_type": "stream",
     "text": [
      "Epoch [0], val_loss: 0.4353, val_acc: 0.8873\n",
      "Epoch [1], val_loss: 0.4340, val_acc: 0.8876\n",
      "Epoch [2], val_loss: 0.4328, val_acc: 0.8877\n",
      "Epoch [3], val_loss: 0.4316, val_acc: 0.8879\n",
      "Epoch [4], val_loss: 0.4304, val_acc: 0.8880\n"
     ]
    }
   ],
   "source": [
    "history4 = fit(model, 0.001, train_loader, val_loader, 5)"
   ],
   "metadata": {
    "collapsed": false,
    "pycharm": {
     "name": "#%%\n"
    }
   }
  },
  {
   "cell_type": "code",
   "execution_count": 128,
   "outputs": [
    {
     "data": {
      "text/plain": "<Figure size 432x288 with 1 Axes>",
      "image/png": "[encoded data removed]"
     },
     "metadata": {
      "needs_background": "light"
     },
     "output_type": "display_data"
    }
   ],
   "source": [
    "history = [result0] + history1 + history2 + history3 + history4\n",
    "accuracies = [result['val_acc'] for result in history]\n",
    "plt.plot(accuracies, '-x')\n",
    "plt.xlabel('epoch')\n",
    "plt.ylabel('accuracy')\n",
    "plt.title('Accuracy vs. No. of epochs');"
   ],
   "metadata": {
    "collapsed": false,
    "pycharm": {
     "name": "#%%\n"
    }
   }
  },
  {
   "cell_type": "code",
   "execution_count": 129,
   "outputs": [],
   "source": [
    "test_dataset = MNIST(root='data/',\n",
    "                     train=False,\n",
    "                     transform=transforms.ToTensor())"
   ],
   "metadata": {
    "collapsed": false,
    "pycharm": {
     "name": "#%%\n"
    }
   }
  },
  {
   "cell_type": "code",
   "execution_count": 130,
   "outputs": [
    {
     "name": "stdout",
     "output_type": "stream",
     "text": [
      "Shape: torch.Size([1, 28, 28])\n",
      "Label: 7\n"
     ]
    },
    {
     "data": {
      "text/plain": "<Figure size 432x288 with 1 Axes>",
      "image/png": "[encoded data removed]"
     },
     "metadata": {
      "needs_background": "light"
     },
     "output_type": "display_data"
    }
   ],
   "source": [
    "img, label = test_dataset[0]\n",
    "plt.imshow(img[0], cmap='gray')\n",
    "print('Shape:', img.shape)\n",
    "print('Label:', label)"
   ],
   "metadata": {
    "collapsed": false,
    "pycharm": {
     "name": "#%%\n"
    }
   }
  },
  {
   "cell_type": "code",
   "execution_count": 131,
   "outputs": [],
   "source": [
    "def predict_image(img, model):\n",
    "    xb = img.unsqueeze(0)\n",
    "    yb = model(xb)\n",
    "    _, preds = torch.max(yb, dim=1)\n",
    "    return preds[0].item()"
   ],
   "metadata": {
    "collapsed": false,
    "pycharm": {
     "name": "#%%\n"
    }
   }
  },
  {
   "cell_type": "code",
   "execution_count": 132,
   "outputs": [
    {
     "name": "stdout",
     "output_type": "stream",
     "text": [
      "Label: 7 , Predicted: 7\n"
     ]
    },
    {
     "data": {
      "text/plain": "<Figure size 432x288 with 1 Axes>",
      "image/png": "[encoded data removed]"
     },
     "metadata": {
      "needs_background": "light"
     },
     "output_type": "display_data"
    }
   ],
   "source": [
    "img, label = test_dataset[0]\n",
    "plt.imshow(img[0], cmap=\"gray\")\n",
    "print(\"Label:\", label, ', Predicted:', predict_image(img, model))"
   ],
   "metadata": {
    "collapsed": false,
    "pycharm": {
     "name": "#%%\n"
    }
   }
  },
  {
   "cell_type": "code",
   "execution_count": 133,
   "outputs": [
    {
     "name": "stdout",
     "output_type": "stream",
     "text": [
      "Label: 6 , Predicted: 6\n"
     ]
    },
    {
     "data": {
      "text/plain": "<Figure size 432x288 with 1 Axes>",
      "image/png": "[encoded data removed]"
     },
     "metadata": {
      "needs_background": "light"
     },
     "output_type": "display_data"
    }
   ],
   "source": [
    "img, label = test_dataset[2131]\n",
    "plt.imshow(img[0], cmap=\"gray\")\n",
    "print(\"Label:\", label, ', Predicted:', predict_image(img, model))"
   ],
   "metadata": {
    "collapsed": false,
    "pycharm": {
     "name": "#%%\n"
    }
   }
  },
  {
   "cell_type": "code",
   "execution_count": 134,
   "outputs": [
    {
     "data": {
      "text/plain": "{'val_loss': 0.4052261412143707, 'val_acc': 0.8939453363418579}"
     },
     "execution_count": 134,
     "metadata": {},
     "output_type": "execute_result"
    }
   ],
   "source": [
    "test_loader = DataLoader(test_dataset, batch_size=256)\n",
    "result = evaluate(model, test_loader)\n",
    "result"
   ],
   "metadata": {
    "collapsed": false,
    "pycharm": {
     "name": "#%%\n"
    }
   }
  },
  {
   "cell_type": "code",
   "execution_count": 135,
   "outputs": [],
   "source": [
    "torch.save(model.state_dict(), 'mnist-logistic.pth')"
   ],
   "metadata": {
    "collapsed": false,
    "pycharm": {
     "name": "#%%\n"
    }
   }
  },
  {
   "cell_type": "code",
   "execution_count": 136,
   "outputs": [
    {
     "data": {
      "text/plain": "OrderedDict([('linear.weight',\n              tensor([[ 0.0321, -0.0227,  0.0152,  ...,  0.0188,  0.0043, -0.0325],\n                      [ 0.0053, -0.0191,  0.0047,  ..., -0.0189, -0.0032,  0.0139],\n                      [ 0.0086,  0.0309,  0.0221,  ..., -0.0124, -0.0235, -0.0275],\n                      ...,\n                      [-0.0066, -0.0299,  0.0188,  ...,  0.0086, -0.0219,  0.0023],\n                      [-0.0083,  0.0249,  0.0112,  ...,  0.0316,  0.0028, -0.0288],\n                      [ 0.0117, -0.0099, -0.0221,  ..., -0.0108, -0.0297,  0.0266]])),\n             ('linear.bias',\n              tensor([-0.0527,  0.1922, -0.0453, -0.0622,  0.0322,  0.2028, -0.0190,  0.1282,\n                      -0.2379, -0.0580]))])"
     },
     "execution_count": 136,
     "metadata": {},
     "output_type": "execute_result"
    }
   ],
   "source": [
    "model.state_dict()"
   ],
   "metadata": {
    "collapsed": false,
    "pycharm": {
     "name": "#%%\n"
    }
   }
  },
  {
   "cell_type": "code",
   "execution_count": 137,
   "outputs": [],
   "source": [
    "model2 = MnistModel()"
   ],
   "metadata": {
    "collapsed": false,
    "pycharm": {
     "name": "#%%\n"
    }
   }
  },
  {
   "cell_type": "code",
   "source": [
    "model2.state_dict()"
   ],
   "metadata": {
    "collapsed": false,
    "pycharm": {
     "name": "#%%\n"
    }
   },
   "execution_count": 138,
   "outputs": [
    {
     "data": {
      "text/plain": "OrderedDict([('linear.weight',\n              tensor([[-0.0343,  0.0292, -0.0341,  ...,  0.0166,  0.0175, -0.0290],\n                      [ 0.0082, -0.0164,  0.0123,  ..., -0.0328, -0.0125, -0.0125],\n                      [ 0.0295, -0.0094,  0.0113,  ..., -0.0299,  0.0240,  0.0126],\n                      ...,\n                      [ 0.0253, -0.0101,  0.0167,  ...,  0.0185, -0.0066, -0.0258],\n                      [-0.0247, -0.0313, -0.0107,  ..., -0.0340,  0.0219,  0.0251],\n                      [ 0.0090,  0.0208,  0.0203,  ...,  0.0207, -0.0106, -0.0094]])),\n             ('linear.bias',\n              tensor([ 0.0303,  0.0115, -0.0339, -0.0257,  0.0354, -0.0177,  0.0130,  0.0339,\n                      -0.0218,  0.0352]))])"
     },
     "execution_count": 138,
     "metadata": {},
     "output_type": "execute_result"
    }
   ]
  },
  {
   "cell_type": "code",
   "execution_count": 139,
   "outputs": [
    {
     "data": {
      "text/plain": "{'val_loss': 2.334290027618408, 'val_acc': 0.12187500298023224}"
     },
     "execution_count": 139,
     "metadata": {},
     "output_type": "execute_result"
    }
   ],
   "source": [
    "evaluate(model2, test_loader)"
   ],
   "metadata": {
    "collapsed": false,
    "pycharm": {
     "name": "#%%\n"
    }
   }
  },
  {
   "cell_type": "code",
   "execution_count": 140,
   "outputs": [
    {
     "data": {
      "text/plain": "{'val_loss': 0.4052261412143707, 'val_acc': 0.8939453363418579}"
     },
     "execution_count": 140,
     "metadata": {},
     "output_type": "execute_result"
    }
   ],
   "source": [
    "evaluate(model, test_loader)"
   ],
   "metadata": {
    "collapsed": false,
    "pycharm": {
     "name": "#%%\n"
    }
   }
  },
  {
   "cell_type": "code",
   "execution_count": 141,
   "outputs": [
    {
     "data": {
      "text/plain": "<All keys matched successfully>"
     },
     "execution_count": 141,
     "metadata": {},
     "output_type": "execute_result"
    }
   ],
   "source": [
    "model2.load_state_dict(torch.load(\"mnist-logistic.pth\"))"
   ],
   "metadata": {
    "collapsed": false,
    "pycharm": {
     "name": "#%%\n"
    }
   }
  },
  {
   "cell_type": "code",
   "execution_count": 142,
   "outputs": [
    {
     "data": {
      "text/plain": "OrderedDict([('linear.weight',\n              tensor([[ 0.0321, -0.0227,  0.0152,  ...,  0.0188,  0.0043, -0.0325],\n                      [ 0.0053, -0.0191,  0.0047,  ..., -0.0189, -0.0032,  0.0139],\n                      [ 0.0086,  0.0309,  0.0221,  ..., -0.0124, -0.0235, -0.0275],\n                      ...,\n                      [-0.0066, -0.0299,  0.0188,  ...,  0.0086, -0.0219,  0.0023],\n                      [-0.0083,  0.0249,  0.0112,  ...,  0.0316,  0.0028, -0.0288],\n                      [ 0.0117, -0.0099, -0.0221,  ..., -0.0108, -0.0297,  0.0266]])),\n             ('linear.bias',\n              tensor([-0.0527,  0.1922, -0.0453, -0.0622,  0.0322,  0.2028, -0.0190,  0.1282,\n                      -0.2379, -0.0580]))])"
     },
     "execution_count": 142,
     "metadata": {},
     "output_type": "execute_result"
    }
   ],
   "source": [
    "model2.state_dict()"
   ],
   "metadata": {
    "collapsed": false,
    "pycharm": {
     "name": "#%%\n"
    }
   }
  },
  {
   "cell_type": "code",
   "execution_count": 143,
   "outputs": [
    {
     "data": {
      "text/plain": "{'val_loss': 0.4052261412143707, 'val_acc': 0.8939453363418579}"
     },
     "execution_count": 143,
     "metadata": {},
     "output_type": "execute_result"
    }
   ],
   "source": [
    "test_loader = DataLoader(test_dataset, batch_size=256)\n",
    "result = evaluate(model2, test_loader)\n",
    "result"
   ],
   "metadata": {
    "collapsed": false,
    "pycharm": {
     "name": "#%%\n"
    }
   }
  }
 ],
 "metadata": {
  "kernelspec": {
   "display_name": "Python 3",
   "language": "python",
   "name": "python3"
  },
  "language_info": {
   "codemirror_mode": {
    "name": "ipython",
    "version": 2
   },
   "file_extension": ".py",
   "mimetype": "text/x-python",
   "name": "python",
   "nbconvert_exporter": "python",
   "pygments_lexer": "ipython2",
   "version": "2.7.6"
  }
 },
 "nbformat": 4,
 "nbformat_minor": 0
}